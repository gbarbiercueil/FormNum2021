{
 "cells": [
  {
   "cell_type": "markdown",
   "metadata": {},
   "source": [
    "# <div class=\"alert alert-info\" role=\"alert\"> <center> Python 2 : Activité n°4\n",
    "## <center> Titrage conductimétrique et incertitude-type composée\n",
    "<center> Proposition de correction"
   ]
  },
  {
   "cell_type": "code",
   "execution_count": null,
   "metadata": {},
   "outputs": [],
   "source": [
    "%matplotlib notebook\n",
    "import numpy as np\n",
    "from matplotlib import pyplot as plt\n",
    "\n",
    "# La fonction alea retourne une valeur aléatoire (loi normale) de valeur x[0] et d'incertitude type x[1]\n",
    "def alea(x):\n",
    "    tirage = np.random.normal()\n",
    "    return x[0] + x[1]*tirage\n",
    "\n",
    "# Valeurs et incertitudes des données\n",
    "Cb=[0.1,0.005]\n",
    "Veq=[10.4/1000,0.05/1000]\n",
    "Va=[20/1000,0.03/1000]\n",
    "\n",
    "# Calcul de Ca\n",
    "Ca_mes=Cb[0]*Veq[0]/Va[0]\n",
    "print('La valeur de la concentration inconnue est : Ca_mes = ', Ca_mes,' mol/L')\n",
    "\n",
    "# Tirages et calculs des Ca  \n",
    "Cb_valeurs=[]\n",
    "Veq_valeurs=[]\n",
    "Va_valeurs=[]\n",
    "Ca_valeurs=[]\n",
    "for i in range(0,100000):\n",
    "    Cb_valeurs.append(alea(Cb))\n",
    "    Veq_valeurs.append(alea(Veq))\n",
    "    Va_valeurs.append(alea(Va))\n",
    "    Ca_valeurs.append(Cb_valeurs[i]*Veq_valeurs[i]/Va_valeurs[i])\n",
    "\n",
    "# On calcule la moyenne et l'écart type s(n-1) et l'incertitude\n",
    "# On retrouve ici un morceau du programme ressource \"Boucle for\"\n",
    "          \n",
    "moyenne=np.mean(Ca_valeurs)                        \n",
    "ecart_type=np.std(Ca_valeurs,ddof=1)\n",
    "\n",
    "# Affichage des résultats\n",
    "print('L\\'écart-type expérimental est : s_n-1(n) = ',ecart_type,' mol')\n",
    "\n",
    "# Incertitude composée\n",
    "u_composee = Cb[0]*Veq[0]/Va[0]*np.sqrt((Cb[1]/Cb[0])**2+(Veq[1]/Veq[0])**2+(Va[1]/Va[0])**2)\n",
    "print('L\\'incertitude composée est : u_composée(n) = ',u_composee,' mol')\n",
    "\n",
    "# Qualité de la mesure\n",
    "Q=abs(Ca_mes-0.0515)/u_composee\n",
    "print('La qualité de la mesure est : ',Q)\n",
    "if Q<2:\n",
    "    print('La mesure est conforme à la valeur de référence.')\n",
    "else:\n",
    "    print('La mesure n\\'est pas conforme à la valeur de référence.')\n",
    "\n",
    "# Affichage de l'histogramme\n",
    "print('L\\'histogramme est centré sur la valeur moyenne de Ca : ',moyenne,' mol')\n",
    "plt.figure('Valeurs des quantités')\n",
    "plt.hist(Ca_valeurs,bins =50,color ='green',edgecolor ='black')\n",
    "plt.show()"
   ]
  },
  {
   "cell_type": "code",
   "execution_count": null,
   "metadata": {},
   "outputs": [],
   "source": []
  }
 ],
 "metadata": {
  "kernelspec": {
   "display_name": "Python 3",
   "language": "python",
   "name": "python3"
  },
  "language_info": {
   "codemirror_mode": {
    "name": "ipython",
    "version": 3
   },
   "file_extension": ".py",
   "mimetype": "text/x-python",
   "name": "python",
   "nbconvert_exporter": "python",
   "pygments_lexer": "ipython3",
   "version": "3.7.1"
  }
 },
 "nbformat": 4,
 "nbformat_minor": 2
}
