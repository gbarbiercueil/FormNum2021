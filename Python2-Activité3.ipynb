{
 "cells": [
  {
   "cell_type": "markdown",
   "metadata": {},
   "source": [
    "# <div class=\"alert alert-info\" role=\"alert\"> <center> Python 2 : Activité n°3\n",
    "## <center> Titrage conductimétrique\n"
   ]
  },
  {
   "attachments": {
    "image.png": {
     "image/png": "[encoded data removed]"
    }
   },
   "cell_type": "markdown",
   "metadata": {},
   "source": [
    "Vous disposez du fichier \"titrage.csv\" qui donne l'évolution de la conductivité s en fonction du volume Vb de solution titrante versée (Vb<sub>max</sub> = 19 mL) au cours d'un titrage d'une solution contenant théoriquement 1,00 g (0,0103 mol) d'acide sulfamique NH<sub>2</sub>SO<sub>3</sub>H par une solution de soude de concentration cb = 0,100 mol.L<sup>-1</sup> :\n",
    "<center>NH<sub>2</sub>SO<sub>3</sub>H + HO<sup>-</sup> ----> NH<sub>2</sub>SO<sub>3</sub><sup>-</sup> + H<sub>2</sub>O\n",
    "\n",
    "![image.png](attachment:image.png) "
   ]
  },
  {
   "cell_type": "markdown",
   "metadata": {},
   "source": [
    "Vous devez écrire un programme qui :\n",
    "- lit le fichier (il est déjà dans le même dossier que votre notebook Jupiter) ;\n",
    "- trace le graphe de la conductivité s en fonction du volume Vb ;\n",
    "- modélise les deux parties linéaires par deux fonctions affines ;\n",
    "- détermine les coordonnées du point d'intersection ;\n",
    "- affiche le volume équivalent du titrage\n",
    "- calcule les quantités théoriques de réactif (NH<sub>2</sub>SO<sub>3</sub>H et HO<sup>-</sup>) et de produit (NH<sub>2</sub>SO<sub>3</sub><sup>-</sup>) en fonction de Vb ;\n",
    "- trace les quantités en fonction de Vb\n",
    "\n",
    "Quand vous avez terminé, vous pouvez passer à une autre activité..."
   ]
  },
  {
   "cell_type": "code",
   "execution_count": null,
   "metadata": {},
   "outputs": [],
   "source": [
    "# Taper votre code ici..."
   ]
  }
 ],
 "metadata": {
  "kernelspec": {
   "display_name": "Python 3",
   "language": "python",
   "name": "python3"
  },
  "language_info": {
   "codemirror_mode": {
    "name": "ipython",
    "version": 3
   },
   "file_extension": ".py",
   "mimetype": "text/x-python",
   "name": "python",
   "nbconvert_exporter": "python",
   "pygments_lexer": "ipython3",
   "version": "3.7.1"
  }
 },
 "nbformat": 4,
 "nbformat_minor": 2
}
