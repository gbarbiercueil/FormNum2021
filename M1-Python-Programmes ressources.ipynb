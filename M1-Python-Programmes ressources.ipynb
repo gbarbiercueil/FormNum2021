{
 "cells": [
  {
   "cell_type": "markdown",
   "metadata": {},
   "source": [
    "# <div class=\"alert alert-info\" role=\"alert\"> <center> Python 2 : Programmes ressources"
   ]
  },
  {
   "cell_type": "markdown",
   "metadata": {},
   "source": [
    "## <center>Présentation<center>  \n",
    "Le but de l'atelier Python 2 est de construire des programmes dans un contexte de Physique-Chimie. Nous mettons à votre disposition une serie de petits programmes ressources simples :\n",
    "    \n",
    "- 1) structures conditionnelles ;\n",
    "- 2) boucle for ;\n",
    "- 3) tracer un histogramme ;\n",
    "- 4) nuage de points ;\n",
    "- 5) régression linéaire ;\n",
    "- 6) tracer le graphique d'un modèle dont on connait l'expression ;\n",
    "- 7) tracer un vecteur ;\n",
    "- 8) boucle while ;\n",
    "- 9) lecture d'un fichier .csv ;\n",
    "- 10) définir une fonction ;  \n",
    "\n",
    "Ce seront les briques qui vous permettront de construire, au cours de cet atelier, des programmes plus complexes."
   ]
  },
  {
   "cell_type": "markdown",
   "metadata": {},
   "source": [
    "## 1) Structures conditionnelles : if... elif... else...\n",
    "***Contexte :*** Le son se propage dans l’air à la vitesse de 340 m.s<sup>-1</sup>. L’utilisateur peut calculer la distance parcourue à partir d’une durée **ou** la durée du parcourt à partir d’une distance.  \n",
    ".  \n",
    "***Instructions notamment rencontrées :***  \n",
    "- print(), input(): fonction native pour afficher et/ou attendre la saisie d'une valeur  \n",
    "- int(), float() : fonction native qui attribue un type à une variable (entier, virgule flottante)  \n",
    "- **if... :** , **elif... :** , **else... :** : instructions natives de la structure conditionnelle  \n"
   ]
  },
  {
   "cell_type": "code",
   "execution_count": 1,
   "metadata": {},
   "outputs": [
    {
     "name": "stdout",
     "output_type": "stream",
     "text": [
      "Calcul de distance ou de durée ?\n",
      "  - distance taper 1.\n",
      "  - durée taper 2.\n",
      "  Votre choix ?  1\n",
      "Quelle est la durée en s ?  3\n",
      "La distance parcourue est :  1020.0  m\n"
     ]
    }
   ],
   "source": [
    "# Initialisation des variables\n",
    "vitesse=340\n",
    "reponse=''\n",
    "\n",
    "# Question posée\n",
    "reponse=int(input('Calcul de distance ou de durée ?\\n  - distance taper 1.\\n  - durée taper 2.\\n  Votre choix ?  '))\n",
    "\n",
    "# Structure conditionnelle\n",
    "if reponse==1 :\n",
    "    duree=float(input('Quelle est la durée en s ?  '))\n",
    "    distance=vitesse*duree\n",
    "    print('La distance parcourue est : ',distance,' m')\n",
    "elif reponse==2 :\n",
    "    distance=float(input('Quelle est la distance en m ?  '))\n",
    "    duree=distance/vitesse\n",
    "    print('La durée de propagation est : ',duree, ' s')\n",
    "else :\n",
    "    print('Cette réponse ne fait pas partie des choix')"
   ]
  },
  {
   "cell_type": "markdown",
   "metadata": {},
   "source": [
    "## 2) Boucle for\n",
    "***Contexte :*** plusieurs groupes de TP mesurent l'absorbance d'une solution de permanganate de potassium de concentration c = 0,25 mmol.L<sup>-1</sup>  \n",
    ".  \n",
    "***Bibliothèque utilisée :*** \n",
    "- numpy  pour les fonctions mathématiques  \n",
    "\n",
    "***Instructions notamment rencontrées :*** \n",
    "- len(): fonction native qui donne la longueur d'une liste\n",
    "- range(): fonction native qui génére une liste d'entier\n",
    "- sqrt(): fonction de numpy qui calcule la racine carrée\n",
    "- **for ... in ... :** : instruction native de boucle *Pour... dans... faire* ce qui est \"indenté\""
   ]
  },
  {
   "cell_type": "code",
   "execution_count": 2,
   "metadata": {},
   "outputs": [
    {
     "name": "stdout",
     "output_type": "stream",
     "text": [
      "La série de mesures est:\n",
      "[0.6705, 0.6724, 0.6572, 0.6589, 0.6563, 0.655, 0.6707, 0.67, 0.655, 0.6625, 0.669]\n",
      "L'incertitude sur chaque mesure est : s_n-1(x) =  0.0071459715288342\n",
      "La moyenne des mesures est : x_moy =  0.6634090909090908\n",
      "L'incertitude sur la moyenne est : u(x) =  0.0021545914839732165\n"
     ]
    }
   ],
   "source": [
    "import numpy as np\n",
    "\n",
    "# initialisation des variables\n",
    "somme=0\n",
    "ecart=0\n",
    "\n",
    "# La série de mesures\n",
    "x=[0.6705,0.6724,0.6572,0.6589,0.6563,0.6550,0.6707,0.6700,0.6550,0.6625,0.6690]     # Les mesures sont dans une liste\n",
    "N=len(x)                        # Calcule le nombre de valeur de la liste\n",
    "\n",
    "# Boucle for (ne pas oublier le :)\n",
    "for i in range(0,N):            # range crée une liste de N valeurs entières entre 0 et N-1\n",
    "    somme = somme + x[i]            # à chaque passage, on ajoute x[i] dans la variable somme\n",
    "\n",
    "moyenne=somme/N                         # une fois la boucle terminée, on calcule de la moyenne\n",
    "\n",
    "# Boucle for\n",
    "for i in range(0,N):                # range crée une liste de N valeurs entières entre 0 et N-1\n",
    "    ecart +=  (x[i]-moyenne)**2      # \"ecart+=(x[i]-moyenne)**2\" est équivalent à \"ecart=ecart+(x[i]-moyenne)**2\"\n",
    "\n",
    "ecart_type=np.sqrt(ecart/(N-1))         # une fois la boucle terminée, on calcule l'écart type N-1\n",
    "incertitude=ecart_type/np.sqrt(N)       # Calcule l'incertitude sur la moyenne\n",
    "\n",
    "# Affichage des résultats\n",
    "print('La série de mesures est:')\n",
    "print(x)\n",
    "print(\"L'incertitude sur chaque mesure est : s_n-1(x) = \",ecart_type)\n",
    "print('La moyenne des mesures est : x_moy = ',moyenne)\n",
    "print('L\\'incertitude sur la moyenne est : u(x) = ',incertitude)"
   ]
  },
  {
   "cell_type": "markdown",
   "metadata": {},
   "source": [
    "## 3) Tracer un histogramme\n",
    "***Contexte :*** plusieurs groupes de TP mesurent l'absorbance d'une solution de permanganate de potassium de concentration c = 0,25 mmol.L<sup>-1</sup>  \n",
    ".  \n",
    "***Bibliothèques utilisées :*** \n",
    "- numpy pour la fonction **linespace()**\n",
    "- matplotlib.pyplot pour les fonctions graphiques  \n",
    "\n",
    "***Instructions notamment rencontrées :*** \n",
    "- max(), min(): fonctions natives qui donnent les maximum et minimum d'une liste\n",
    "- linspace(): fonction de numpy qui génére une liste à intervalles constants\n",
    "- clf() : fonction de matplotlib.pyplot qui efface la fenètre graphique qui pourrait contenir un graphique précédemment tracé\n",
    "- hist(), show() : fonctions de matplotlib.pyplot qui tracent un histogramme et affiche le résultat"
   ]
  },
  {
   "cell_type": "code",
   "execution_count": 4,
   "metadata": {},
   "outputs": [
    {
     "name": "stdout",
     "output_type": "stream",
     "text": [
      "L'amplitude de la série est :  0.01739999999999997\n",
      "Le pas de l'histogramme :  0.0034799999999999944\n",
      "Les bornes des pas sont :  [0.65326 0.65674 0.66022 0.6637  0.66718 0.67066 0.67414]\n",
      "Les étiquettes des pas sont :  [0.655   0.65848 0.66196 0.66544 0.66892 0.6724 ]\n"
     ]
    },
    {
     "data": {
      "image/png": "[encoded data removed]",
      "text/plain": [
       "<Figure size 432x288 with 1 Axes>"
      ]
     },
     "metadata": {
      "needs_background": "light"
     },
     "output_type": "display_data"
    }
   ],
   "source": [
    "from matplotlib import pyplot as plt\n",
    "import numpy as np\n",
    "\n",
    "# La série de mesures\n",
    "x=[0.6705,0.6724,0.6672,0.6589,0.6563,0.6650,0.6707,0.6700,0.6550,0.6625,0.6690]    # Les mesures sont dans une liste\n",
    "\n",
    "# Calcul du histogramme\n",
    "nb=6 # définit le nombre d'intervalle de l'histogramme (peut être changé pour s'adapter à la série de mesure)\n",
    "amplitude=max(x)-min(x)         # Calcule l'amplitude de la série\n",
    "print(\"L'amplitude de la série est : \", amplitude)\n",
    "pas=amplitude/(nb-1)            # Calcule l'écart entre deux intervelles de l'histogramme\n",
    "print(\"Le pas de l'histogramme : \",pas)\n",
    "inter=np.linspace(min(x)-(pas/2),max(x)+(pas/2),nb+1) # Génère la liste des nb+1 bornes d'intervalles\n",
    "print(\"Les bornes des pas sont : \",inter)\n",
    "etiq=np.linspace(min(x),max(x),nb)          # Génère la liste des nb étiquettes\n",
    "print(\"Les étiquettes des pas sont : \",etiq)\n",
    "\n",
    "# Tracé du graphique histogramme\n",
    "plt.clf()                                   # Efface le graphique précédent\n",
    "plt.hist(x,bins=inter,rwidth=0.8)           # trace l'histogramme des mesures\n",
    "                                            # bins = liste des bornes des intervalles\n",
    "                                            # rwidth = largeur des barres\n",
    "# Informations sur le graphique\n",
    "plt.xticks(etiq)                            # Affiche les nombres étiquettes sur l'axe des abscisses\n",
    "plt.title('Répartition des mesures')\n",
    "\n",
    "# Montrer le graphique\n",
    "plt.show()"
   ]
  },
  {
   "cell_type": "markdown",
   "metadata": {},
   "source": [
    "## 4) Nuage de points\n",
    "***Contexte :*** On a les coordonnées (x,y) d'un mobile, lancé dans le champ de pesanteur, en fonction du temps et on veut tracer différents graphiques  \n",
    ".  \n",
    "***Bibliothèque utilisée :*** \n",
    "- matplotlib.pyplot pour les fonctions graphiques  \n",
    "\n",
    "***Instructions notamment rencontrées :*** \n",
    "- plot(), show() : fonction de matplotlib.pyplot qui trace un nuage de point et affiche le résultat"
   ]
  },
  {
   "cell_type": "markdown",
   "metadata": {},
   "source": [
    "### Exemple 1 : Tracer la trajectoire"
   ]
  },
  {
   "cell_type": "code",
   "execution_count": 5,
   "metadata": {},
   "outputs": [
    {
     "data": {
      "image/png": "[encoded data removed]",
      "text/plain": [
       "<Figure size 432x288 with 1 Axes>"
      ]
     },
     "metadata": {
      "needs_background": "light"
     },
     "output_type": "display_data"
    }
   ],
   "source": [
    "from matplotlib import pyplot as plt\n",
    "\n",
    "# Les deux séries de valeurs sont dans des listes (le nombre de valeurs est identiques)\n",
    "x=[0.1918, 0.3353, 0.4872, 0.6307, 0.7700, 0.9093, 1.0528, 1.1794, 1.3144, 1.4495]\n",
    "y= [0.3526, 0.7025, 0.9723, 1.1704, 1.3011, 1.3643, 1.3727, 1.3137, 1.1957, 1.0186]\n",
    "\n",
    "# Tracer le graphique de la trajectoire\n",
    "plt.clf()                                   # Efface le graphique précédent\n",
    "plt.plot(x,y,'go',label='y=f(x)')   # trace les points correspondant aux listes x et y avec légende \"y=f(x)\"\n",
    "\n",
    "# Informations sur le graphique\n",
    "plt.title('Trajectoire')    #Titre du graphique\n",
    "plt.xlabel('x (en m)')           # légende de l'axe des abscisses\n",
    "plt.ylabel('y (en m)')           # légende de l'axe des ordonnées\n",
    "plt.legend()                    # Affiche la légende dans le graphique\n",
    "\n",
    "# Montrer le graphique\n",
    "plt.show()\n",
    "\n"
   ]
  },
  {
   "cell_type": "markdown",
   "metadata": {},
   "source": [
    "### Exemple 2 : Tracer les équations horaires"
   ]
  },
  {
   "cell_type": "code",
   "execution_count": 6,
   "metadata": {},
   "outputs": [
    {
     "data": {
      "image/png": "[encoded data removed]",
      "text/plain": [
       "<Figure size 432x288 with 1 Axes>"
      ]
     },
     "metadata": {
      "needs_background": "light"
     },
     "output_type": "display_data"
    }
   ],
   "source": [
    "from matplotlib import pyplot as plt\n",
    "\n",
    "# Les trois séries de valeurs sont dans des listes (le nombre de valeurs est identiques)\n",
    "t=[0,0.08,0.16,0.24,0.32,0.4,0.48,0.56,0.64,0.72]\n",
    "x=[0.1918, 0.3353, 0.4872, 0.6307, 0.7700, 0.9093, 1.0528, 1.1794, 1.3144, 1.4495]\n",
    "y= [0.3526, 0.7025, 0.9723, 1.1704, 1.3011, 1.3643, 1.3727, 1.3137, 1.1957, 1.0186]\n",
    "\n",
    "# Tracer le graphique des équations horaires\n",
    "plt.clf()                                   # Efface le graphique précédent\n",
    "plt.plot(t,x,'r+',t,y,'b*')             # trace les points correspondant aux listes t et x\n",
    "\n",
    "# Informations sur le graphique\n",
    "plt.title('x et y en fonction de t')    #Titre du graphique\n",
    "plt.xlabel('t (en s)')           # légende de l'axe des abscisses\n",
    "plt.ylabel('x et y (en m)')         # légende de l'axe des ordonnées\n",
    "plt.legend(('x','y'))           # Légende dans le graphique\n",
    "\n",
    "# Montrer le graphique\n",
    "plt.show()"
   ]
  },
  {
   "cell_type": "markdown",
   "metadata": {},
   "source": [
    "### Exemple 3 : Tracer les deux graphiques dans une même fenêtre"
   ]
  },
  {
   "cell_type": "code",
   "execution_count": 7,
   "metadata": {},
   "outputs": [
    {
     "data": {
      "text/plain": [
       "<Figure size 432x288 with 0 Axes>"
      ]
     },
     "metadata": {},
     "output_type": "display_data"
    },
    {
     "data": {
      "image/png": "[encoded data removed]",
      "text/plain": [
       "<Figure size 720x360 with 2 Axes>"
      ]
     },
     "metadata": {
      "needs_background": "light"
     },
     "output_type": "display_data"
    }
   ],
   "source": [
    "from matplotlib import pyplot as plt\n",
    "\n",
    "# Les trois séries de valeurs sont dans des listes (le nombre de valeurs est identiques)\n",
    "t=[0,0.08,0.16,0.24,0.32,0.4,0.48,0.56,0.64,0.72]\n",
    "x=[0.1918, 0.3353, 0.4872, 0.6307, 0.7700, 0.9093, 1.0528, 1.1794, 1.3144, 1.4495]\n",
    "y= [0.3526, 0.7025, 0.9723, 1.1704, 1.3011, 1.3643, 1.3727, 1.3137, 1.1957, 1.0186]\n",
    "\n",
    "# Tracer les graphiques\n",
    "plt.clf()                                   # Efface le graphique précédent\n",
    "plt.figure(figsize=(10,5))                  # Permet d'élargir la largeur de la fen^tre graphique (par défaut (6.5,4.7))\n",
    "\n",
    "# sous graphique 1 : équations horaires\n",
    "plt.subplot(121)          # fenêtre graphique : 1 ligne, 2 colonnes ; graphique 1 (à gauche)\n",
    "plt.plot(t,x,'r+',t,y,'b*')             # trace les points correspondant aux listes t et x\n",
    "\n",
    "# Informations sur le sous-graphique 1\n",
    "plt.title('x et y en fonction de t')    #Titre du graphique\n",
    "plt.xlabel('t (en s)')           # légende de l'axe des abscisses\n",
    "plt.ylabel('x et y (en m)')         # légende de l'axe des ordonnées\n",
    "plt.legend(('x','y'))           # Légende dans le graphique\n",
    "\n",
    "# sous graphique 2 : trajectoire\n",
    "plt.subplot(122)          # fenêtre graphique : 1 ligne, 2 colonnes ; graphique 2 (à droite)\n",
    "plt.plot(x,y,'go',label='y=f(x)')   # trace les points correspondant aux listes t et x avec légende \"y=f(x)\"\n",
    "\n",
    "# Informations sur le sous-graphique 2\n",
    "plt.title('Trajectoire')    #Titre du graphique\n",
    "plt.xlabel('x (en m)')           # légende de l'axe des abscisses\n",
    "plt.ylabel('y (en m)')           # légende de l'axe des ordonnées\n",
    "plt.legend()                    # Affiche la légende dans le graphique\n",
    "\n",
    "# Montrer le graphique\n",
    "plt.show()\n",
    "\n"
   ]
  },
  {
   "cell_type": "markdown",
   "metadata": {},
   "source": [
    "## 5) Régression\n",
    "***Contexte :*** On modélise les équations horaires et la trajectoire d'un mobile lancé dans le champ de pesanteur  \n",
    ".  \n",
    "**<center> Régression polynomiale <center>**  \n",
    "\n",
    "***Bibliothèque utilisée :***  \n",
    "- numpy pour la fonction polyfit  \n",
    "\n",
    "***Instruction notamment rencontrée :*** \n",
    "- polyfit() : fonction de numpy qui génére une liste avec les coefficients du modèle (ordre de poids décroissant)"
   ]
  },
  {
   "cell_type": "code",
   "execution_count": 8,
   "metadata": {},
   "outputs": [
    {
     "name": "stdout",
     "output_type": "stream",
     "text": [
      "Modélisation de x=f(t) par une fonction affine : x = at+b\n",
      "  a = 1.7454242424242419\n",
      "  b = 0.20368727272727274\n",
      "Modélisation de y=f(t) par une fonction polynomiale : at²+bt+c\n",
      "  a = -5.062322443181821\n",
      "  b = 4.540591856060607\n",
      "  c = 0.3651445454545447\n",
      "Modélisation de y=f(x) par une fonction polynomiale : ax²+bx+c\n",
      "  a = -1.6301821531486005\n",
      "  b = 3.2032075502515247\n",
      "  c = -0.19790997272403166\n"
     ]
    }
   ],
   "source": [
    "import numpy as np\n",
    "\n",
    "# Les trois séries de valeurs\n",
    "t=[0,0.08,0.16,0.24,0.32,0.4,0.48,0.56,0.64,0.72]\n",
    "x=[0.1918, 0.3353, 0.4872, 0.6307, 0.7700, 0.9093, 1.0528, 1.1794, 1.3144, 1.4495]\n",
    "y= [0.3526, 0.7025, 0.9723, 1.1704, 1.3011, 1.3643, 1.3727, 1.3137, 1.1957, 1.0186]\n",
    "\n",
    "# détermination des coefficients      \n",
    "m_x_t = np.polyfit(t,x,1)         # le dernier nombre donne le degré du polynôme\n",
    "modele_y_t = np.polyfit(t,y,2)\n",
    "modele_y_x = np.polyfit(x,y,2)\n",
    "\n",
    "#Affichage des résultats\n",
    "print('Modélisation de x=f(t) par une fonction affine : x = at+b')\n",
    "print('  a =',m_x_t[0])\n",
    "print('  b =',m_x_t[1])\n",
    "print('Modélisation de y=f(t) par une fonction polynomiale : at²+bt+c')\n",
    "print('  a =',modele_y_t[0])\n",
    "print('  b =',modele_y_t[1])\n",
    "print('  c =',modele_y_t[2])\n",
    "print('Modélisation de y=f(x) par une fonction polynomiale : ax²+bx+c')\n",
    "print('  a =',modele_y_x[0])\n",
    "print('  b =',modele_y_x[1])\n",
    "print('  c =',modele_y_x[2])"
   ]
  },
  {
   "cell_type": "markdown",
   "metadata": {},
   "source": [
    "## 6) Tracer le graphique d'un modèle dont on connait l'expression\n",
    "***Contexte :*** On connait l'équation du modèle de la trajectoire d'un mobile et on veut la représenter  \n",
    ".  \n",
    "***Bibliothèques utilisées :*** \n",
    "- matplotlib.pyplot pour les fonctions graphiques  \n",
    "- numpy pour linspace()  \n",
    "\n",
    "***Instructions notamment rencontrées :*** \n",
    "- linspace(): fonction de numpy qui génére une liste à intervalles constants\n",
    "- *list_2* =[... **for ... in** *list_1*] **:** : instruction native générant une *list_2* à partir d'une *list_1*"
   ]
  },
  {
   "cell_type": "code",
   "execution_count": null,
   "metadata": {},
   "outputs": [],
   "source": [
    "from matplotlib import pyplot as plt\n",
    "import numpy as np\n",
    "\n",
    "# Equation du modèle : y = ax² + bx + c\n",
    "a = -1.63\n",
    "b = 3.203\n",
    "c = -0.198\n",
    "\n",
    "# Bornes du modèle\n",
    "x_min=0.1918\n",
    "x_max=1.4495\n",
    "\n",
    "# Abscisses et ordonnées du modèle\n",
    "x_modele=np.linspace(x_min,x_max,100001)           # permet de créer une liste de 101 valeurs d'abscisses\n",
    "y_modele=[a*i**2+b*i+c for i in x_modele]        # calcule l'ordonnée en appliquant le modèle  ai²+bi+c\n",
    "\n",
    "# Tracer le graphique\n",
    "plt.clf()                                   # Efface le graphique précédent\n",
    "plt.plot(x_modele,y_modele)\n",
    "\n",
    "# Informations sur le graphique\n",
    "plt.title('Modèle de y en fonction de x') \n",
    "plt.xlabel('x (en m)')        # légende de l'axe des abscisses\n",
    "plt.ylabel('y (en m)')        # légende de l'axe des ordonnées\n",
    "plt.grid()\n",
    "plt.axis('equal')\n",
    "#plt.ylim(0)\n",
    "\n",
    "# Montrer le graphique\n",
    "plt.show()"
   ]
  },
  {
   "cell_type": "markdown",
   "metadata": {},
   "source": [
    "## 7) Tracer un vecteur\n",
    "***Contexte :*** Connaissant les coordonnées (x,y) d'un mobile, lancé dans le champ de pesanteur, en fonction du temps, on veut tracer des vecteurs déplacement, vitesse, variation de vitesse et accélération.    \n",
    ".  \n",
    "***Bibliothèque utilisée :*** \n",
    "- matplotlib.pyplot pour les fonctions graphiques  \n",
    "\n",
    "***Instruction notamment rencontrée :*** \n",
    "- quiver() : fonction de matplotlib.pyplot qui trace le vecteur à partir des coordonnées du point d'application et du vecteur "
   ]
  },
  {
   "cell_type": "code",
   "execution_count": null,
   "metadata": {},
   "outputs": [],
   "source": [
    "from matplotlib import pyplot as plt\n",
    "\n",
    "# coordonnées de M toutes les dt=0.040 s : M1, M2, M3...\n",
    "dt=0.04\n",
    "x=[0.1918, 0.2635, 0.3353, 0.4112, 0.4872, 0.5589, 0.6307, 0.6982, 0.7700, 0.8375, 0.9093, 0.9768, 1.0528, 1.1161, 1.1794, 1.2469, 1.3144, 1.3820, 1.4495, 1.5170, 1.5846, 1.6521, 1.7154, 1.7745]\n",
    "y=[0.3526, 0.5381, 0.7025, 0.8458, 0.9723, 1.0776, 1.1704, 1.2420, 1.3011, 1.3390, 1.3643, 1.3769, 1.3727, 1.3474, 1.3137, 1.2631, 1.1957, 1.1156, 1.0186, 0.9006, 0.7741, 0.6308, 0.4707, 0.2978]\n",
    "\n",
    "# Représentation de la trajectoire\n",
    "plt.clf()                                   # Efface le graphique précédent\n",
    "plt.plot(x,y,'ro')\n",
    "\n",
    "# Représentation du vecteur déplacement M2M3\n",
    "dx=x[2]-x[1]            # Calcule des coordonnées de M2M3\n",
    "dy=y[2]-y[1]            # l'indice de la première valeur d'une liste est 0 - M1 (x[0],y[0])\n",
    "plt.quiver(x[1],y[1],dx,dy,scale=1,units='xy')       # L'échelle (scale) de représentation est celle des axes\n",
    "\n",
    "# Représentation du vecteur vitesse v11=M11M12/dt\n",
    "vx=(x[11]-x[10])/dt            # Calcule des coordonnées de v11\n",
    "vy=(y[11]-y[10])/dt\n",
    "plt.quiver(x[10],y[10],vx,vy,scale=10)      # L'échelle de représentation est 1/10ème\n",
    "\n",
    "# Représentation du vecteur variation de vitesse dv18=v19-v18\n",
    "dvx=(((x[19]-x[18])/dt)-(x[18]-x[17])/dt)            # Calcule des coordonnées de dv18\n",
    "dvy=(((y[19]-y[18])/dt)-(y[18]-y[17])/dt)\n",
    "plt.quiver(x[17],y[17],dvx,dvy,scale=5,color='g',width=0.002)       # On peut ajuster l'épaisseur (width)\n",
    "\n",
    "# Représentation du vecteur accélération a5 = dv5/dt\n",
    "ax=(((x[6]-x[5])/dt)-(x[5]-x[4])/dt)/dt              # Calcule des coordonnées de a5\n",
    "ay=(((y[6]-y[5])/dt)-(y[5]-y[4])/dt)/dt\n",
    "plt.quiver(x[4],y[4],ax,ay,scale=50,color='c',width=0.005)\n",
    "\n",
    "# Repère orthonormé\n",
    "plt.axis('equal')\n",
    "\n",
    "# Montrer le graphique\n",
    "plt.show()"
   ]
  },
  {
   "attachments": {
    "image.png": {
     "image/png": "[encoded data removed]"
    }
   },
   "cell_type": "markdown",
   "metadata": {},
   "source": [
    "## 8) Boucle while\n",
    "***Contexte :*** A partir des conditions initiales, on modélise la trajectoire d'un mobile lancé dans le champ de pesanteur pour trouver la position de l'impact avec le sol \n",
    "\n",
    "![image.png](attachment:image.png)\n",
    "\n",
    "***Bibliothèque utilisée :*** \n",
    "- matplotlib.pyplot pour les fonctions graphiques  \n",
    "\n",
    "***Instructions notamment rencontrées :*** \n",
    "- *list*.append(*variable*): fonction native qui ajoute la *variable* à la fin de la liste\n",
    "- **while ... :** : instruction native de boucle *Tant que... faire* ce qui est \"indenté\""
   ]
  },
  {
   "cell_type": "code",
   "execution_count": null,
   "metadata": {},
   "outputs": [],
   "source": [
    "from matplotlib import pyplot as plt\n",
    "\n",
    "# Définition des listes du modèle\n",
    "x_modele=[]\n",
    "y_modele=[]\n",
    "vx_modele=[]\n",
    "vy_modele=[]\n",
    "\n",
    "# Données de contexte : un lancer de poids dans le champ de pesanteur\n",
    "gx=0\n",
    "gy=-9.81                    # vecteur champ de pesanteur\n",
    "m=7.26                      # Masse  du mobile\n",
    "\n",
    "# Conditions initiales du lancer\n",
    "x0=0.31\n",
    "y0=2.23                     # vecteur position initiale\n",
    "v0x=10.056\n",
    "v0y=9.377                   # vecteur vitesse initiale\n",
    "\n",
    "# Pas du modèle\n",
    "dt_modele=1/100000             # le pas du modèle est 1/10 000 de seconde\n",
    "\n",
    "# Somme des forces extérieures\n",
    "Fx=m*gx\n",
    "Fy=m*gy                     # une seule force : le poids\n",
    "\n",
    "# Modélisation au niveau spécialité première - force constante (somme F = m * delta v / delta t)\n",
    "dvx=Fx/m*dt_modele\n",
    "dvy=Fy/m*dt_modele              # Vecteur variation de vitesse du modèle (loi de Newton)\n",
    "\n",
    "# Conditions initiales\n",
    "x_modele.append(x0)\n",
    "y_modele.append(y0)\n",
    "vx_modele.append(v0x)\n",
    "vy_modele.append(v0y)\n",
    "\n",
    "# Calcul des coordonnées de la position et de la vitesse\n",
    "i=0\n",
    "while y_modele[i]>0 :\n",
    "    x_modele.append((vx_modele[i]*dt_modele)+x_modele[i])   # modèle : x(i+1) = vx(i)*dt + x(i)\n",
    "    y_modele.append((vy_modele[i]*dt_modele)+y_modele[i])   # modèle : y(i+1) = vy(i)*dt + y(i)\n",
    "    vx_modele.append(vx_modele[i]+dvx)                      # modèle : vx(i+1) = vx(i) + dvx(i)\n",
    "    vy_modele.append(vy_modele[i]+dvy)                      # modèle : vy(i+1) = vy(i) + dvy(i)\n",
    "    i=i+1\n",
    "\n",
    "# Affichage du point d'impact avec le sol\n",
    "print('l\\'abscisse du point de contact avec le sol est : ',x_modele[i],' m')\n",
    "\n",
    "#Pour mieux comprendre ce qu'à fait le programme, on peut tracer la trajectoire\n",
    "# Représentation de la trajectoire\n",
    "plt.clf()                                   # Efface le graphique précédent\n",
    "plt.plot(x0,y0,'ro')                                # Position initiale\n",
    "plt.quiver(x0,y0,v0x,v0y,scale=50,width=0.005)      # Vecteur vitesse initiale\n",
    "plt.plot(x_modele,y_modele,'g-')                    # Trajectoire d'après le modèle\n",
    "\n",
    "# Configuration repère\n",
    "plt.xlabel('Abscisse x (en m)')\n",
    "plt.ylabel('Ordonnée y (en m)')\n",
    "plt.grid()\n",
    "plt.axis('equal')\n",
    "plt.legend(['position initiale','modele'])\n",
    "\n",
    "# Montrer le graphique\n",
    "plt.show()"
   ]
  },
  {
   "attachments": {
    "image.png": {
     "image/png": "[encoded data removed]"
    }
   },
   "cell_type": "markdown",
   "metadata": {},
   "source": [
    "## 9) Lire un fichier .csv\n",
    "***Contexte :*** Les coordonnées (t,x,y) d'un mobile sont sauvagardés dans un fichier au format '.csv' .\n",
    "Il s'agit de lire le fichier pour placer les valeurs dans trois listes séparées : t, x et y  \n",
    "**<center>Le fichier '.csv' lu avec le bloc note<center>**\n",
    "\n",
    "![image.png](attachment:image.png)\n",
    "\n",
    "***Instructions notamment rencontrées :*** \n",
    "- *liste*.append(*variable*): fonction native qui ajoute la *variable* à la fin de la *liste*\n",
    "- **with open(** *fichier* **,'r') as** *variable* : instruction native qui ouvre *fichier*, lit le texte du fichier et le place dans une *variable* "
   ]
  },
  {
   "cell_type": "code",
   "execution_count": null,
   "metadata": {},
   "outputs": [],
   "source": [
    "# Définition des listes\n",
    "t=[]     \n",
    "x=[]     \n",
    "y=[]\n",
    "\n",
    "# Lecture d'un fichier csv pour en faire une liste \n",
    "                # le ficher csv est dans le même dossier que le programme\n",
    "                # la première ligne du fichier contient les intitulés de chaque colonne ; ici \"t (s);x (m);y (m)\"\n",
    "                # de la deuxième à la dernière ligne, on trouve les valeurs des grandeurs séparés par des ;\n",
    "                # le contenu des lignes est considéré comme du texte\n",
    "with open('balle_tennis_lancee.csv','r') as fichier:        # le contenu du csv est placé dans fichier\n",
    "    fichier.readline()              # on lit la première ligne de fichier (intitulés non utilisés)\n",
    "    for ligne in fichier:               # a chaque passage, ligne prend la valeur de la nouvelle ligne de fichier\n",
    "        ligne_lue=ligne.split(';')      # ligne_lue est une liste des valeurs de la variable ligne séparées par ';'\n",
    "        t.append(float(ligne_lue[0].replace(',','.')))  # append signifie qu'on ajoute à la liste t\n",
    "        x.append(float(ligne_lue[1].replace(',','.')))  # replace change la \",\" par un \".\"\n",
    "        y.append(float(ligne_lue[2].replace(',','.')))  # float transforme la chaine de caractère en nombre\n",
    "\n",
    "# Affichage des listes\n",
    "print('premières valeurs des lignes: t = ',t)\n",
    "print('deuxièmes valeurs des lignes: x = ',x)\n",
    "print('troisièmes valeurs des lignes: y = ',y)"
   ]
  },
  {
   "attachments": {
    "image.png": {
     "image/png": "[encoded data removed]"
    }
   },
   "cell_type": "markdown",
   "metadata": {},
   "source": [
    "## 10) Définir une fonction  \n",
    "## <center>Exemple 1\n",
    "***Contexte :*** plusieurs groupes de TP mesurent l'absorbance d'une solution de permanganate de potassium de concentration c = 0,25 mmol.L<sup>-1</sup>  \n",
    "On veut définir une fonction qui va retourner la valeur moyenne et l'évaluation de type A de l'incertitude-type\n",
    "\n",
    "![image.png](attachment:image.png)\n",
    "\n",
    "***Bibliothèque utilisée :*** \n",
    "- numpy pour la fonction sqrt()  \n",
    "\n",
    "***Instructions notamment rencontrées :*** \n",
    "- **def** *nom_fonction* **:** : instruction native definisant une fonction par ce qui est \"indenté\". La fin d'indentation est signalée par **return** *résultat1,résultat2,...*"
   ]
  },
  {
   "cell_type": "code",
   "execution_count": null,
   "metadata": {},
   "outputs": [],
   "source": [
    "import numpy as np\n",
    "\n",
    "# Retourne la valeur moyenne d'une liste x de mesure et son incertitude-type A\n",
    "def moy_incert(x):\n",
    "    somme=0\n",
    "    ecart=0\n",
    "    N=len(x)                            # Calcule le nombre de valeur de la liste\n",
    "    for i in range(0,N):                # boucle de calcul de la somme des valeurs\n",
    "        somme+=x[i]\n",
    "    moyenne=somme/N                     # Calcule la moyenne (on peut utiliser la fonction np.mean(x))\n",
    "    for i in range(0,N):                # Boucle de calcul de la somme des carrés des écarts\n",
    "        ecart += (x[i]-moyenne)**2\n",
    "    ecart_type=np.sqrt(ecart/(N-1))     # Calcule l'écart type N-1 (on peut aussi utiliser la fonction np.std(x,ddof=1))\n",
    "    incertitude=ecart_type/np.sqrt(N)   # Calcule l'incertitude sur la moyenne \n",
    "    return moyenne,incertitude          # Renvoie des parametres\n",
    "    \n",
    "# La série de mesures\n",
    "raoul=[0.1095,0.1075,0.1020,0.1030,0.1010,0.1000,0.096,0.095,0.090,0.0925,0.0990]     # Les mesures sont dans une liste\n",
    "\n",
    "\n",
    "# Utilisation de la fonction définie précédemment\n",
    "raymond,raymonde=moy_incert(raoul)\n",
    "\n",
    "# Affichage des résultats\n",
    "print('La moyenne des mesures est : x_moy = ',raymond)\n",
    "print('L\\'incertitude sur la moyenne est : u(x) = ',raymonde)\n"
   ]
  },
  {
   "cell_type": "markdown",
   "metadata": {},
   "source": [
    "## <center> Exemple 2\n",
    "***Contexte :*** On connait une grandeur et son incertitude type. On veut définir une fonction qui, par tirage, retourne une valeur aléatoire (loi normale).\n",
    "\n",
    "***Bibliothèque utilisée :*** \n",
    "- numpy pour la fonction sqrt() \n",
    "- matplotlib.pyplot pour les fonctions graphiques  \n",
    "\n",
    "***Instructions notamment rencontrées :***  \n",
    "\n",
    "- mean() : fonction de numpy qui calcule la moyenne\n",
    "- std(,ddof=1) : fonction de numpy qui calcule l'écart-type expérimentale s<sub>n-1</sub>.\n",
    "- **def** *nom_fonction* **. :** : instruction native definisant une fonction par ce qui est \"indenté\". La fin d'indentation est signalée par **return** *résultat1,résultat2,...*"
   ]
  },
  {
   "cell_type": "code",
   "execution_count": null,
   "metadata": {},
   "outputs": [],
   "source": [
    "import numpy as np\n",
    "from matplotlib import pyplot as plt\n",
    "\n",
    "# La fonction alea retourne une valeur aléatoire (loi normale) de valeur x[0] et d'incertitude type x[1]\n",
    "def alea(x):\n",
    "    tirage = np.random.normal()\n",
    "    return x[0] + x[1]*tirage\n",
    "\n",
    "# On en prélève un volume V = 10,00 mL avec une incertitude type u(V)=+- 0,02 mL\n",
    "V=[10,0.02]\n",
    "\n",
    "# Par tirage, on peut proposer une valeur possible du volume \n",
    "V_valeur=alea(V)\n",
    "print('Par un tirage aléatoire, on peut déterminer une valeur possible pour le volume : V = ',V_valeur,'mL')\n",
    "\n",
    "# Par tirages multiples, on peut proposer plusieurs valeurs possibles\n",
    "V_valeurs=[]\n",
    "for i in range(0,100000):\n",
    "    V_valeurs.append(alea(V))\n",
    "\n",
    "# Calcul de la moyenne\n",
    "moyenne=np.mean(V_valeurs)              # mean() est une fonction qui calcule la moyenne d'une liste\n",
    "print('L\\'histogramme est centré sur la valeur moyenne des tirages : ',moyenne,' ml')\n",
    "\n",
    "# Calcul de l'écart-type (divisé par racine de n-1)\n",
    "ecart_type=np.std(V_valeurs,ddof=1)             # std( ,ddof=1) est une fonction qui calcule s_n-1\n",
    "print('L\\'écart-type calculé sur les 100 000 tirages est : ',ecart_type,' ml')\n",
    "\n",
    "# Affichage de l'histogramme\n",
    "plt.clf()                                   # Efface le graphique précédent\n",
    "plt.figure('Tirages multiples des volumes')\n",
    "plt.hist(V_valeurs,bins =50,color ='green',edgecolor ='black')\n",
    "plt.show()"
   ]
  },
  {
   "attachments": {
    "image.png": {
     "image/png": "[encoded data removed]"
    }
   },
   "cell_type": "markdown",
   "metadata": {},
   "source": [
    "## <center>Exemple 3\n",
    "**<center>Une fonction qui pourrait vous être utile...**  \n",
    "***Contexte :*** On a une série de mesure dont le graphique suggère une droite qui passe par l'origine. On veut définir une fonction qui renvoie la pente de la droite et le coefficient de corrélation.\n",
    "    \n",
    "![image.png](attachment:image.png)\n",
    "***Bibliothèque utilisée :*** \n",
    "- Aucune pour la fonction  \n",
    "\n",
    "***Instructions notamment rencontrées :*** \n",
    "- **def** *nom_fonction* **:.** : instruction native definisant une fonction par ce qui est \"indenté\". La fin d'indentation est signalée par **return** *résultat1,résultat2,...*"
   ]
  },
  {
   "cell_type": "code",
   "execution_count": null,
   "metadata": {},
   "outputs": [],
   "source": [
    "from matplotlib import pyplot as plt\n",
    "import numpy as np\n",
    "\n",
    "# Les deux séries de valeurs\n",
    "x=[1,2,3,4,5]           # Les abscisses et les ordonnées sont dans des listes\n",
    "y=[1.5,3,4.2,6.3,7.5]   # le nombre de valeurs dans les listes est identique\n",
    "\n",
    "# définition d'une fonction\n",
    "def reglin(x, ro):\n",
    "    # Ajuste une droite d'équation a*x sur les points (x, y) par la méthode des moindres carrés.\n",
    "    # Return a,ro (float): pente de la droite passant par l'origine, coefficient de corélation\n",
    "       \n",
    "    # initialisation des sommes\n",
    "    x2_sum = 0.\n",
    "    xy_sum = 0.\n",
    "    y_sum = 0\n",
    "    \n",
    "    # calcul des sommes\n",
    "    for xi, yi in zip(x, y):    # zip combine plusieurs listes, chacune faisant son itération\n",
    "        x2_sum += xi**2\n",
    "        xy_sum += xi * yi\n",
    "        y_sum += yi\n",
    "        \n",
    "    N = len(y)\n",
    "    y_moy=y_sum/N           # Calcul de la moyenne des y\n",
    "    a = xy_sum/x2_sum       # calcul de la pente\n",
    "\n",
    "    # calcul du coefficient de corélation ro\n",
    "    ecart_modele=0\n",
    "    ecart_moy=0\n",
    "    for xi, yi in zip(x, y):\n",
    "        ecart_modele += (yi-a*xi)**2\n",
    "        ecart_moy += (yi-y_moy)**2\n",
    "    ro=1-(ecart_modele/ecart_moy)\n",
    "    \n",
    "    # renvoi des parametres et fin de la définition de la fonction\n",
    "    return a,ro\n",
    "\n",
    "# détermination des coefficients en utilisant la fonction définie ci-dessus     \n",
    "a,ro=reglin(x,y)\n",
    "\n",
    "#Affichage des résultats\n",
    "print('Coefficient directeur : a =',a)\n",
    "print('Coefficient de corélation : r = ',ro)\n",
    "\n",
    "#Pour mieux comprendre ce qu'à fait le programme, on peut tracer le graphique ci-dessous\n",
    "\n",
    "# Abscisses et ordonnées du modèle\n",
    "x_modele=np.linspace(0,max(x),101)     # permet de créer une liste de 101 valeurs d'abscisses\n",
    "y_modele=[a*i for i in x_modele]          # calcule l'ordonnée en appliquant le modèle\n",
    "\n",
    "# Tracer le graphique\n",
    "plt.clf()                                   # Efface le graphique précédent\n",
    "plt.plot(x,y,'r+')              # les couples de valeur sont représentés par des croix rouges\n",
    "plt.plot(x_modele,y_modele)     # par défaut les points sont liés par un segment de droite bleu\n",
    "\n",
    "# Informations sur le graphique\n",
    "plt.title('y en fonction de x') \n",
    "plt.xlabel('Liste x')        # légende de l'axe des abscisses\n",
    "plt.ylabel('liste y')        # légende de l'axe des ordonnées\n",
    "plt.legend(('y','modèle'))\n",
    "\n",
    "# Montrer le graphique\n",
    "plt.show()"
   ]
  },
  {
   "cell_type": "code",
   "execution_count": null,
   "metadata": {},
   "outputs": [],
   "source": []
  }
 ],
 "metadata": {
  "kernelspec": {
   "display_name": "Python 3",
   "language": "python",
   "name": "python3"
  },
  "language_info": {
   "codemirror_mode": {
    "name": "ipython",
    "version": 3
   },
   "file_extension": ".py",
   "mimetype": "text/x-python",
   "name": "python",
   "nbconvert_exporter": "python",
   "pygments_lexer": "ipython3",
   "version": "3.7.1"
  }
 },
 "nbformat": 4,
 "nbformat_minor": 2
}
