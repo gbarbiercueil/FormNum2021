{
 "cells": [
  {
   "cell_type": "markdown",
   "metadata": {},
   "source": [
    "# <div class=\"alert alert-info\" role=\"alert\"> <center> Python 2 : Activité n°2\n",
    "## <center> Energie mécanique\n",
    "<center> Proposition de correction"
   ]
  },
  {
   "cell_type": "code",
   "execution_count": null,
   "metadata": {},
   "outputs": [],
   "source": [
    "%matplotlib notebook\n",
    "import numpy as np\n",
    "from matplotlib import pyplot as plt\n",
    "from scipy.stats import linregress\n",
    "\n",
    "# Définition des listes\n",
    "t=[]     \n",
    "x=[]     \n",
    "y=[]\n",
    "v=[]\n",
    "Ec=[]\n",
    "Ep=[]\n",
    "Em=[]\n",
    "absc=[]\n",
    "m=0.058\n",
    "g=9.81\n",
    "\n",
    "# Lecture d'un fichier csv pour en faire une liste \n",
    "                # le ficher csv est dans le même dossier que le programme\n",
    "                # la première ligne du fichier contient les intitulés de chaque colonne ; ici \"t (s);x (m);y (m)\"\n",
    "                # de la deuxième à la dernière ligne, on trouve les valeurs des grandeurs séparés par des ;\n",
    "                # le contenu des lignes est considéré comme du texte\n",
    "with open('balle_tennis_lancee.csv','r') as fichier:        # le contenu du csv est placé dans fichier\n",
    "    fichier.readline()              # on lit la première ligne de fichier (intitulés non utilisés)\n",
    "    for ligne in fichier:               # a chaque passage, ligne prend la valeur de la nouvelle ligne de fichier\n",
    "        ligne_lue=ligne.split(';')      # ligne_lue est une liste des valeurs de la variable ligne séparées par ';'\n",
    "        t.append(float(ligne_lue[0].replace(',','.')))  # append signifie qu'on ajoute à la liste t\n",
    "        x.append(float(ligne_lue[1].replace(',','.')))  # replace change la \",\" par un \".\"\n",
    "        y.append(float(ligne_lue[2].replace(',','.')))  # float transforme la chaine de caractère en nombre\n",
    "\n",
    "N = len(t)\n",
    "\n",
    "# Calcul des vitesses et des énergies\n",
    "for i in range(0,N-2):\n",
    "    v.append(np.sqrt((x[i+2]-x[i])**2+(y[i+2]-y[i])**2)/(t[i+2]-t[i]))\n",
    "    Ec.append(0.5*m*v[i]**2)\n",
    "    Ep.append(m*g*y[i+1])\n",
    "    Em.append(Ec[i]+Ep[i])\n",
    "    absc.append(t[i+1])     # on crée une liste des dates 'absc' excluant la première \n",
    "                            # et la dernière pour laquelle on ne connait pas la vitesse\n",
    "# Régression linéaire sur l'énergie mécanique\n",
    "a,b,ro,_,_=linregress(absc,Em)\n",
    "print('Coefficient directeur du modèle : a =',a)\n",
    "print('Ordonnée à l\\'origine du modèle : b =',b)\n",
    "print('Coefficient de corélation : r = ',ro)\n",
    "\n",
    "# Bornes du modèle\n",
    "x_min=min(absc)\n",
    "x_max=max(absc)\n",
    "\n",
    "# Abscisses et ordonnées du modèle\n",
    "x_modele=np.linspace(x_min,x_max,101)           # permet de créer une liste de 101 valeurs d'abscisses\n",
    "y_modele=[a*i+b for i in x_modele]        # calcule l'ordonnée en appliquant le modèle  ai²+bi+c\n",
    "\n",
    "# Tracer le graphique\n",
    "plt.plot(x_modele,y_modele)\n",
    "\n",
    "plt.plot(absc,Ec,'r+',absc,Ep,'b*',absc,Em,'gx')\n",
    "plt.legend(('Modèle','Ec','Ep','Em'))\n",
    "plt.show()"
   ]
  },
  {
   "cell_type": "code",
   "execution_count": null,
   "metadata": {},
   "outputs": [],
   "source": []
  }
 ],
 "metadata": {
  "kernelspec": {
   "display_name": "Python 3",
   "language": "python",
   "name": "python3"
  },
  "language_info": {
   "codemirror_mode": {
    "name": "ipython",
    "version": 3
   },
   "file_extension": ".py",
   "mimetype": "text/x-python",
   "name": "python",
   "nbconvert_exporter": "python",
   "pygments_lexer": "ipython3",
   "version": "3.7.1"
  }
 },
 "nbformat": 4,
 "nbformat_minor": 2
}
